{
 "cells": [
  {
   "cell_type": "code",
   "execution_count": 11,
   "metadata": {},
   "outputs": [
    {
     "name": "stdout",
     "output_type": "stream",
     "text": [
      "The path is  ['A', 'B', 'G']\n"
     ]
    }
   ],
   "source": [
    "def h(n):\n",
    "    H = {'A':12,'B':15,'C':14,'G':0}\n",
    "    return H[n]\n",
    "\n",
    "def astar(graph,start,goal):\n",
    "    open_list=[start]\n",
    "    closed_list=set()\n",
    "\n",
    "    g = {start:0}\n",
    "    parents = {start:start}\n",
    "\n",
    "    while open_list:\n",
    "        open_list.sort(key = lambda x:g[x]+h(x),reverse=True)\n",
    "        n = open_list.pop()\n",
    "\n",
    "        if n == goal:\n",
    "            reconst_path = []\n",
    "\n",
    "            while parents[n]!=n:\n",
    "                reconst_path.append(n)\n",
    "                n = parents[n]\n",
    "\n",
    "            reconst_path.append(start)\n",
    "            reconst_path.reverse()\n",
    "            print('The path is ',reconst_path)\n",
    "            return \n",
    "\n",
    "        for (m,weight) in graph[n]:\n",
    "            if m not in open_list and m not in closed_list:\n",
    "                open_list.append(m)\n",
    "                g[m]=g[n]+weight\n",
    "                parents[m]=n\n",
    "            else:\n",
    "                if g[m]>g[n]+weight:\n",
    "                    g[m]=g[n]+weight\n",
    "                    parents[m]=n\n",
    "                    if m in closed_list:\n",
    "                        closed_list.remove(m)\n",
    "                        open_list.append(m)\n",
    "        closed_list.add(n)\n",
    "    print(\"No path exists\")\n",
    "    return \n",
    "\n",
    "graph = {\n",
    "    'A' : [('B',3),('C',5)],\n",
    "    'B' : [('G',2)],\n",
    "    'C' : [('G',1)],\n",
    "    'G' : []\n",
    "}\n",
    "\n",
    "astar(graph,'A','G')"
   ]
  },
  {
   "cell_type": "code",
   "execution_count": null,
   "metadata": {},
   "outputs": [],
   "source": []
  }
 ],
 "metadata": {
  "kernelspec": {
   "display_name": "Python 3",
   "language": "python",
   "name": "python3"
  },
  "language_info": {
   "codemirror_mode": {
    "name": "ipython",
    "version": 3
   },
   "file_extension": ".py",
   "mimetype": "text/x-python",
   "name": "python",
   "nbconvert_exporter": "python",
   "pygments_lexer": "ipython3",
   "version": "3.11.9"
  }
 },
 "nbformat": 4,
 "nbformat_minor": 2
}
