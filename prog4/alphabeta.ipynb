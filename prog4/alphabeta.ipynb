{
 "cells": [
  {
   "cell_type": "code",
   "execution_count": 11,
   "metadata": {},
   "outputs": [
    {
     "name": "stdout",
     "output_type": "stream",
     "text": [
      "OPtimal cost is : 5\n",
      "Optimal path is: [0, 0, 0, 5]\n",
      "4\n"
     ]
    }
   ],
   "source": [
    "class TreeNode:\n",
    "    def __init__(self,value,children=[]):\n",
    "        self.value=value\n",
    "        self.children = children\n",
    "        self.alpha = float('-inf')\n",
    "        self.beta = float('inf')\n",
    "\n",
    "def alphabeta(node,alpha,beta,depth,maximizing_player):\n",
    "    global pruned_count\n",
    "    if depth == 0 or not node.children:\n",
    "        return node.value,[node.value]\n",
    "    \n",
    "    if maximizing_player:\n",
    "        max_value = float('-inf')\n",
    "        max_path = []\n",
    "        for child in node.children:\n",
    "            child_value,child_path = alphabeta(child,alpha,beta,depth-1,False)\n",
    "            if child_value > max_value:\n",
    "                max_value = child_value\n",
    "                max_path = [node.value]+child_path\n",
    "            alpha = max(alpha, max_value)\n",
    "            if alpha >= beta:\n",
    "                pruned_count+=len(child.children)+1\n",
    "                break\n",
    "\n",
    "        return max_value,max_path\n",
    "    else:\n",
    "        min_value = float('inf')\n",
    "        min_path = []\n",
    "        for child in node.children:\n",
    "            child_value,child_path = alphabeta(child,alpha,beta,depth-1,True)\n",
    "            if child_value < min_value:\n",
    "                min_value = child_value\n",
    "                min_path = [node.value]+child_path\n",
    "            beta = min(beta, min_value)\n",
    "            if alpha >= beta:\n",
    "                pruned_count+=len(child.children)+1\n",
    "                break\n",
    "\n",
    "        return min_value,min_path\n",
    "\n",
    "\n",
    "\n",
    "    \n",
    "game_tree = TreeNode(0, [\n",
    "    TreeNode(0, [\n",
    "        TreeNode(0,[\n",
    "            TreeNode(3), TreeNode(5)\n",
    "            ]),\n",
    "        TreeNode(0,[\n",
    "            TreeNode(6), TreeNode(9)\n",
    "            ])\n",
    "        ]),\n",
    "    TreeNode(0, [\n",
    "        TreeNode(0,[\n",
    "            TreeNode(1), TreeNode(2)\n",
    "            ]),\n",
    "        TreeNode(0,[\n",
    "            TreeNode(0), TreeNode(-1)\n",
    "            ])\n",
    "        ])\n",
    "])\n",
    "\n",
    "pruned_count = 0\n",
    "optimal_cost , optimal_path = alphabeta(game_tree,float('-inf'),float('inf'),3,True)\n",
    "\n",
    "print(\"OPtimal cost is :\",optimal_cost)\n",
    "print(\"Optimal path is:\",optimal_path)\n",
    "print(pruned_count)"
   ]
  },
  {
   "cell_type": "code",
   "execution_count": null,
   "metadata": {},
   "outputs": [],
   "source": []
  },
  {
   "cell_type": "code",
   "execution_count": null,
   "metadata": {},
   "outputs": [],
   "source": []
  },
  {
   "cell_type": "code",
   "execution_count": null,
   "metadata": {},
   "outputs": [],
   "source": []
  },
  {
   "cell_type": "code",
   "execution_count": null,
   "metadata": {},
   "outputs": [],
   "source": []
  }
 ],
 "metadata": {
  "kernelspec": {
   "display_name": "Python 3",
   "language": "python",
   "name": "python3"
  },
  "language_info": {
   "codemirror_mode": {
    "name": "ipython",
    "version": 3
   },
   "file_extension": ".py",
   "mimetype": "text/x-python",
   "name": "python",
   "nbconvert_exporter": "python",
   "pygments_lexer": "ipython3",
   "version": "3.11.9"
  }
 },
 "nbformat": 4,
 "nbformat_minor": 2
}
