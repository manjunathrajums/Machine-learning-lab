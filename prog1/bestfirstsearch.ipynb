{
 "cells": [
  {
   "cell_type": "code",
   "execution_count": 1,
   "metadata": {},
   "outputs": [
    {
     "name": "stdout",
     "output_type": "stream",
     "text": [
      "The path is ['A', 'B', 'G']\n",
      "The cost is 8\n"
     ]
    }
   ],
   "source": [
    "def bfs(graph,start,goal,hueristic,path=[]):\n",
    "    open_list = [(0,start)]\n",
    "    closedlist = set()\n",
    "    closedlist.add(start)\n",
    "\n",
    "    while open_list:\n",
    "        open_list.sort(key=lambda x:hueristic[x[1]],reverse=True)\n",
    "        cost,node=open_list.pop()\n",
    "        path.append(node)\n",
    "\n",
    "        if node==goal:\n",
    "            return cost,path\n",
    "        \n",
    "        closedlist.add(node)\n",
    "        for neighbour,neighbour_cost in graph[node]:\n",
    "            if neighbour not in closedlist:\n",
    "                closedlist.add(neighbour)\n",
    "                open_list.append((neighbour_cost+cost,neighbour))\n",
    "    return \n",
    "\n",
    "graph = {\n",
    "    'A' : [('B',5),('C',4)],\n",
    "    'B' : [('G',3)],\n",
    "    'C' : [('G',5)],\n",
    "    'G' :[]\n",
    "}\n",
    "\n",
    "hueristic ={\n",
    "    'A' : 20,\n",
    "    'B' : 15,\n",
    "    'C' : 16,\n",
    "    'G' : 0\n",
    "}\n",
    "\n",
    "\n",
    "cost , path = bfs(graph,'A','G',hueristic)\n",
    "print(f\"The path is {path}\")\n",
    "print(f\"The cost is {cost}\")\n",
    "\n"
   ]
  },
  {
   "cell_type": "code",
   "execution_count": null,
   "metadata": {},
   "outputs": [],
   "source": []
  }
 ],
 "metadata": {
  "kernelspec": {
   "display_name": "Python 3",
   "language": "python",
   "name": "python3"
  },
  "language_info": {
   "codemirror_mode": {
    "name": "ipython",
    "version": 3
   },
   "file_extension": ".py",
   "mimetype": "text/x-python",
   "name": "python",
   "nbconvert_exporter": "python",
   "pygments_lexer": "ipython3",
   "version": "3.11.9"
  }
 },
 "nbformat": 4,
 "nbformat_minor": 2
}
