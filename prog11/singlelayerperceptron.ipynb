{
 "cells": [
  {
   "cell_type": "code",
   "execution_count": 2,
   "metadata": {},
   "outputs": [
    {
     "name": "stdout",
     "output_type": "stream",
     "text": [
      "and:  [[0]\n",
      " [0]\n",
      " [0]\n",
      " [1]]\n",
      "or:  [[0]\n",
      " [1]\n",
      " [1]\n",
      " [1]]\n"
     ]
    }
   ],
   "source": [
    "import numpy as np\n",
    "\n",
    "def step(x):\n",
    "    return np.where(x>=0,1,0)\n",
    "\n",
    "and_X=np.array([[0,0],[0,1],[1,0],[1,1]])\n",
    "and_y=np.array([[0],[0],[0],[1]])\n",
    "\n",
    "or_X=np.array([[0,0],[0,1],[1,0],[1,1]])\n",
    "or_y=np.array([[0],[1],[1],[1]])\n",
    "\n",
    "class perceptron:\n",
    "    def __init__(self,input_size,learning_rate=0.1,epochs=1000):\n",
    "        self.weights=np.zeros((input_size,1))\n",
    "        self.bias=0\n",
    "        self.learning_rate=learning_rate\n",
    "        self.epochs=epochs\n",
    "\n",
    "    def train(self,X,y):\n",
    "        for _ in range(self.epochs):\n",
    "            for inputs,labels in zip(X,y):\n",
    "                inputs=inputs.reshape(-1,1)\n",
    "                learning_output=np.dot(inputs.T,self.weights)+self.bias\n",
    "                prediction=step(learning_output)\n",
    "                error=labels-prediction\n",
    "                self.weights+=error*self.learning_rate*inputs\n",
    "                self.bias+=error*self.learning_rate\n",
    "\n",
    "    def predict(self,X):\n",
    "        linear_output=np.dot(X,self.weights)+self.bias\n",
    "        return step(linear_output)\n",
    "\n",
    "and_percep=perceptron(input_size=2)\n",
    "and_percep.train(and_X,and_y)\n",
    "\n",
    "or_percep=perceptron(input_size=2)\n",
    "or_percep.train(or_X,or_y)\n",
    "\n",
    "print('and: ',and_percep.predict(and_X))\n",
    "print('or: ',or_percep.predict(or_X))"
   ]
  },
  {
   "cell_type": "code",
   "execution_count": null,
   "metadata": {},
   "outputs": [],
   "source": []
  }
 ],
 "metadata": {
  "kernelspec": {
   "display_name": "Python 3",
   "language": "python",
   "name": "python3"
  },
  "language_info": {
   "codemirror_mode": {
    "name": "ipython",
    "version": 3
   },
   "file_extension": ".py",
   "mimetype": "text/x-python",
   "name": "python",
   "nbconvert_exporter": "python",
   "pygments_lexer": "ipython3",
   "version": "3.11.9"
  }
 },
 "nbformat": 4,
 "nbformat_minor": 2
}
