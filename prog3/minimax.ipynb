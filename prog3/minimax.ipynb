{
 "cells": [
  {
   "cell_type": "code",
   "execution_count": 10,
   "metadata": {},
   "outputs": [
    {
     "name": "stdout",
     "output_type": "stream",
     "text": [
      "OPtimal cost is : 3\n",
      "Optimal path is: [0, 1, 3]\n"
     ]
    }
   ],
   "source": [
    "class TreeNode:\n",
    "    def __init__(self,value,children=[]):\n",
    "        self.value=value\n",
    "        self.children = children\n",
    "\n",
    "def minimax(node,depth,maximizing_player):\n",
    "    if not node.children or depth==0:\n",
    "        return node.value , [node.value]\n",
    "    \n",
    "    if maximizing_player:\n",
    "        max_value = float('-inf')\n",
    "        max_path =[]\n",
    "\n",
    "        for child in node.children:\n",
    "            child_value , child_path = minimax(child,depth-1,False)\n",
    "            if child_value>max_value:\n",
    "                max_value=child_value\n",
    "                max_path=[node.value]+child_path\n",
    "        return max_value , max_path\n",
    "    \n",
    "    else:\n",
    "        min_value = float('inf')\n",
    "        min_path =[]\n",
    "\n",
    "        for child in node.children:\n",
    "            child_value , child_path = minimax(child,depth-1,True)\n",
    "            if child_value<min_value:\n",
    "                min_value=child_value\n",
    "                min_path=[node.value]+child_path\n",
    "  \n",
    "        return min_value , min_path\n",
    "    \n",
    "game_tree = TreeNode(0, [\n",
    "    TreeNode(1, [TreeNode(3),TreeNode(12)]),\n",
    "    TreeNode(4, [TreeNode(8),TreeNode(2)])\n",
    "])\n",
    "#game_tree = TreeNode(0,[TreeNode(1,[TreeNode(5),TreeNode(6)]),TreeNode(2,[TreeNode(7),TreeNode(8)])])\n",
    "\n",
    "optimal_cost , optimal_path = minimax(game_tree,2,True)\n",
    "\n",
    "print(\"OPtimal cost is :\",optimal_cost)\n",
    "print(\"Optimal path is:\",optimal_path)"
   ]
  },
  {
   "cell_type": "code",
   "execution_count": null,
   "metadata": {},
   "outputs": [],
   "source": []
  },
  {
   "cell_type": "code",
   "execution_count": null,
   "metadata": {},
   "outputs": [],
   "source": []
  }
 ],
 "metadata": {
  "kernelspec": {
   "display_name": "Python 3",
   "language": "python",
   "name": "python3"
  },
  "language_info": {
   "codemirror_mode": {
    "name": "ipython",
    "version": 3
   },
   "file_extension": ".py",
   "mimetype": "text/x-python",
   "name": "python",
   "nbconvert_exporter": "python",
   "pygments_lexer": "ipython3",
   "version": "3.11.9"
  }
 },
 "nbformat": 4,
 "nbformat_minor": 2
}
