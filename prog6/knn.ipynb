{
 "cells": [
  {
   "cell_type": "code",
   "execution_count": 2,
   "metadata": {},
   "outputs": [
    {
     "name": "stdout",
     "output_type": "stream",
     "text": [
      "0.6976744186046512\n"
     ]
    }
   ],
   "source": [
    "from collections import Counter\n",
    "from sklearn.model_selection import train_test_split\n",
    "import numpy as np\n",
    "import pandas as pd\n",
    "\n",
    "def eucledian_distance(x,y):\n",
    "    return np.sqrt(np.sum((x-y)**2))\n",
    "\n",
    "class knn:\n",
    "    def __init__(self,k):\n",
    "        self.k = k\n",
    "    def fit(self,X,y):\n",
    "        self.x_train = X\n",
    "        self.y_train = y\n",
    "        \n",
    "    def predict(self,X):\n",
    "        prediction = [self._predict(x) for x in X]\n",
    "        return prediction\n",
    "    \n",
    "    def _predict(self,x):\n",
    "        distance = [eucledian_distance(x,x_train) for x_train in self.x_train]\n",
    "        k_indices = np.argsort(distance)[:self.k]\n",
    "        k_labels = [self.y_train[i] for i in k_indices]\n",
    "        most_common = Counter(k_labels).most_common()\n",
    "        return most_common[0][0]\n",
    "    \n",
    "df = pd.read_csv('../glass.csv')\n",
    "p = knn(k=3)\n",
    "X = df.drop(columns=['Type']).values\n",
    "y = df['Type'].values\n",
    "x_train,x_test,y_train,y_test = train_test_split(X,y,test_size=0.2)\n",
    "p.fit(x_train,y_train)\n",
    "pred = p.predict(x_test)\n",
    "\n",
    "print(np.sum(pred == y_test)/len(y_test))\n",
    "        "
   ]
  },
  {
   "cell_type": "code",
   "execution_count": null,
   "metadata": {},
   "outputs": [],
   "source": []
  }
 ],
 "metadata": {
  "kernelspec": {
   "display_name": "Python 3",
   "language": "python",
   "name": "python3"
  },
  "language_info": {
   "codemirror_mode": {
    "name": "ipython",
    "version": 3
   },
   "file_extension": ".py",
   "mimetype": "text/x-python",
   "name": "python",
   "nbconvert_exporter": "python",
   "pygments_lexer": "ipython3",
   "version": "3.11.9"
  }
 },
 "nbformat": 4,
 "nbformat_minor": 2
}
